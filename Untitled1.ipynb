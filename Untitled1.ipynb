{
  "nbformat": 4,
  "nbformat_minor": 0,
  "metadata": {
    "colab": {
      "name": "Untitled1.ipynb",
      "version": "0.3.2",
      "provenance": [],
      "include_colab_link": true
    },
    "kernelspec": {
      "name": "python3",
      "display_name": "Python 3"
    }
  },
  "cells": [
    {
      "cell_type": "markdown",
      "metadata": {
        "id": "view-in-github",
        "colab_type": "text"
      },
      "source": [
        "<a href=\"https://colab.research.google.com/github/moacirmuniz/Cursos/blob/master/Untitled1.ipynb\" target=\"_parent\"><img src=\"https://colab.research.google.com/assets/colab-badge.svg\" alt=\"Open In Colab\"/></a>"
      ]
    },
    {
      "cell_type": "code",
      "metadata": {
        "id": "WkWKhN3SdlcC",
        "colab_type": "code",
        "colab": {}
      },
      "source": [
        "import pandas\n",
        "a=2\n",
        "b=4\n",
        "c=a+b\n",
        "print(c)\n",
        "\n",
        "i=1\n",
        "for i in range (0,100,1):\n",
        "  print(i)\n",
        "  i=i+1\n",
        "  "
      ],
      "execution_count": 0,
      "outputs": []
    },
    {
      "cell_type": "code",
      "metadata": {
        "id": "tQrMYkFdossr",
        "colab_type": "code",
        "colab": {}
      },
      "source": [
        "# Run this cell to mount your Google Drive.\n",
        "from google.colab import drive\n",
        "drive.mount('/content/drive')"
      ],
      "execution_count": 0,
      "outputs": []
    },
    {
      "cell_type": "code",
      "metadata": {
        "id": "ILn2jGnZezi1",
        "colab_type": "code",
        "colab": {}
      },
      "source": [
        "i=i+12\n",
        "print(i)"
      ],
      "execution_count": 0,
      "outputs": []
    }
  ]
}